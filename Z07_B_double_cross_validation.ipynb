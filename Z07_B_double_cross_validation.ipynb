{
  "cells": [
    {
      "cell_type": "markdown",
      "metadata": {
        "collapsed": true,
        "id": "IPXsBUGYJUg-"
      },
      "source": [
        "# Regresja"
      ]
    },
    {
      "cell_type": "code",
      "execution_count": 1,
      "metadata": {
        "id": "6OQ6El4VJUg_"
      },
      "outputs": [],
      "source": [
        "import numpy as np\n",
        "import matplotlib.pyplot as plt\n",
        "from sklearn import datasets\n",
        "from sklearn.model_selection import cross_val_predict\n",
        "from sklearn import linear_model\n",
        "import matplotlib.pyplot as plt"
      ]
    },
    {
      "cell_type": "markdown",
      "metadata": {
        "id": "h4QOTGIWJUhA"
      },
      "source": [
        "Rozważmy zbiór Boston"
      ]
    },
    {
      "cell_type": "code",
      "execution_count": 2,
      "metadata": {
        "id": "_MpF14HuJUhA"
      },
      "outputs": [],
      "source": [
        "import pandas as pd\n",
        "import numpy as np\n",
        "\n",
        "\n",
        "data_url = \"http://lib.stat.cmu.edu/datasets/boston\"\n",
        "raw_df = pd.read_csv(data_url, sep=\"\\s+\", skiprows=22, header=None)\n",
        "data = np.hstack([raw_df.values[::2, :], raw_df.values[1::2, :2]])\n",
        "target = raw_df.values[1::2, 2]\n",
        "feature_names = ['CRIM', 'ZN', 'INDUS', 'CHAS', 'NOX', 'RM', 'AGE', 'DIS', 'RAD', 'TAX', 'PTRATIO', 'B', 'LSTAT']"
      ]
    },
    {
      "cell_type": "code",
      "execution_count": 3,
      "metadata": {
        "id": "lfVerh17JUhA"
      },
      "outputs": [],
      "source": [
        "# get the data\n",
        "boston_X = data\n",
        "boston_Y = target"
      ]
    },
    {
      "cell_type": "code",
      "execution_count": 4,
      "metadata": {
        "id": "KzGsUJynJUhA"
      },
      "outputs": [],
      "source": [
        "X=boston_X\n",
        "y=boston_Y"
      ]
    },
    {
      "cell_type": "markdown",
      "metadata": {
        "id": "53a1C8PRJUhB"
      },
      "source": [
        "# Zadanie\n",
        "Znajdż najleprzy model za pomocą podwujną cross-validation (nested cross-validation, double cross-validation) .\n"
      ]
    },
    {
      "cell_type": "code",
      "execution_count": 14,
      "metadata": {
        "id": "afLXjszHJUhB"
      },
      "outputs": [],
      "source": [
        "from sklearn.model_selection import GridSearchCV\n",
        "from sklearn.linear_model import LinearRegression\n",
        "from sklearn import linear_model\n",
        "from sklearn.preprocessing import PolynomialFeatures\n",
        "from sklearn.linear_model import Ridge\n",
        "from sklearn.linear_model import Lasso\n",
        "from sklearn.linear_model import ElasticNet\n",
        "from sklearn.pipeline import make_pipeline\n",
        "from sklearn import model_selection\n",
        "from sklearn.model_selection import cross_val_score\n",
        "\n",
        "seed=123\n",
        "kfold = model_selection.KFold(n_splits=5, random_state=seed,shuffle=True)\n",
        "kfold1 = model_selection.KFold(n_splits=5, random_state=seed,shuffle=True)\n",
        "mean_r2 = []\n",
        "var_r2 = []"
      ]
    },
    {
      "cell_type": "code",
      "execution_count": 12,
      "metadata": {
        "id": "UN3OvbkBJUhB",
        "outputId": "72292cf3-9e26-4348-b020-586ce6638667",
        "colab": {
          "base_uri": "https://localhost:8080/"
        }
      },
      "outputs": [
        {
          "output_type": "stream",
          "name": "stdout",
          "text": [
            "CV ElasticNet R2: -0.297 +/- 1.530\n"
          ]
        }
      ],
      "source": [
        "grid_1 = GridSearchCV(estimator=make_pipeline(PolynomialFeatures(degree=2), ElasticNet(alpha=1, tol=0.1)),\n",
        "                      param_grid={'polynomialfeatures__degree': [1, 2, 3, 4],\n",
        "                      'elasticnet__alpha': [1., 2., 3.]},\n",
        "                      scoring='r2',\n",
        "                      cv=kfold, \n",
        "                      n_jobs=-1)\n",
        "scores_1 = cross_val_score(grid_1, X, y, scoring='r2', cv=5)\n",
        "print('CV ElasticNet R2: %.3f +/- %.3f' % (np.mean(scores_1), np.std(scores_1)))\n",
        "mean_r2EN = np.mean(scores_1)\n",
        "var_r2EN = np.std(scores_1)"
      ]
    },
    {
      "cell_type": "code",
      "execution_count": 10,
      "metadata": {
        "id": "VXAXvsAAJUhC",
        "outputId": "e5a6fe7c-54c9-4746-c36f-e390e35064d3",
        "colab": {
          "base_uri": "https://localhost:8080/"
        }
      },
      "outputs": [
        {
          "output_type": "stream",
          "name": "stdout",
          "text": [
            "CV Lasso R2: 0.340 +/- 0.452\n"
          ]
        }
      ],
      "source": [
        "grid_2 = GridSearchCV(estimator=make_pipeline(PolynomialFeatures(degree=2), Lasso(alpha=1, tol=0.1)),\n",
        "                      param_grid={'polynomialfeatures__degree': [1, 2, 3, 4],\n",
        "                      'lasso__alpha': [1., 2., 3.]},\n",
        "                      scoring='r2',\n",
        "                      cv=kfold, \n",
        "                      n_jobs=-1)\n",
        "scores_2 = cross_val_score(grid_2, X, y, scoring='r2', cv=5)\n",
        "print('CV Lasso R2: %.3f +/- %.3f' % (np.mean(scores_2), np.std(scores_2)))\n",
        "mean_r2Lasso = np.mean(scores_2)\n",
        "var_r2Lasso = np.std(scores_2)"
      ]
    },
    {
      "cell_type": "code",
      "execution_count": 11,
      "metadata": {
        "id": "CLT6QFtfJUhC",
        "outputId": "51ae199d-1d43-4925-b3b0-d77ab53bff91",
        "colab": {
          "base_uri": "https://localhost:8080/"
        }
      },
      "outputs": [
        {
          "output_type": "stream",
          "name": "stdout",
          "text": [
            "CV Ridge R2: 0.204 +/- 0.208\n"
          ]
        }
      ],
      "source": [
        "grid_3 = GridSearchCV(estimator=make_pipeline(PolynomialFeatures(degree=2), Ridge(alpha=1, tol=0.1)),\n",
        "                      param_grid={'polynomialfeatures__degree': [1, 2, 3, 4],\n",
        "                      'ridge__alpha': [1., 2., 3.]},\n",
        "                      scoring='r2',\n",
        "                      cv=kfold, \n",
        "                      n_jobs=-1)\n",
        "scores_3 = cross_val_score(grid_3, X, y, scoring='r2', cv=5)\n",
        "print('CV Ridge R2: %.3f +/- %.3f' % (np.mean(scores_3), np.std(scores_3)))\n",
        "mean_r2Ridge = np.mean(scores_3)\n",
        "var_r2Ridge = np.std(scores_3)"
      ]
    },
    {
      "cell_type": "code",
      "execution_count": 22,
      "metadata": {
        "id": "NYvU3cUcJUhC",
        "outputId": "329617d8-5e7e-4ded-a44b-bc3d2bffb3b4",
        "colab": {
          "base_uri": "https://localhost:8080/"
        }
      },
      "outputs": [
        {
          "output_type": "stream",
          "name": "stdout",
          "text": [
            "CV LR R2: -0.193 +/- 0.746\n"
          ]
        },
        {
          "output_type": "execute_result",
          "data": {
            "text/plain": [
              "[0.7464865459456247, 0.7464865459456247]"
            ]
          },
          "metadata": {},
          "execution_count": 22
        }
      ],
      "source": [
        "grid_4 = GridSearchCV(estimator=make_pipeline(PolynomialFeatures(degree=2), LinearRegression()),\n",
        "                      param_grid={'polynomialfeatures__degree': [1, 2, 3, 4]},\n",
        "                      scoring='r2',\n",
        "                      cv=kfold, \n",
        "                      n_jobs=-1)\n",
        "scores_4 = cross_val_score(grid_4, X, y, scoring='r2', cv=5)\n",
        "print('CV LR R2: %.3f +/- %.3f' % (np.mean(scores_4), np.std(scores_4)))\n",
        "mean_r2LR = np.mean(scores_4)\n",
        "var_r2LR = np.std(scores_4)"
      ]
    },
    {
      "cell_type": "markdown",
      "metadata": {
        "collapsed": true,
        "id": "T6959M_2JUhC"
      },
      "source": [
        "# Zad\n",
        "Zwizualizuj wyniki."
      ]
    },
    {
      "cell_type": "code",
      "execution_count": 28,
      "metadata": {
        "id": "sTwSMQChJUhC",
        "outputId": "46d75003-78be-4fc3-924f-72c61f5d3353",
        "colab": {
          "base_uri": "https://localhost:8080/"
        }
      },
      "outputs": [
        {
          "output_type": "stream",
          "name": "stdout",
          "text": [
            "0 CV ElasticNet R2:  -0.2971932249658525 1.5301439295775663\n",
            "1 CV Lasso R2:  0.33968616669307716 0.45242256384493557\n",
            "2 CV Ridge R2:  0.20440521256323962 0.20835367901228838\n",
            "3 CV LR R2:  -0.1926628204224194 0.7464865459456247\n"
          ]
        }
      ],
      "source": [
        "import pandas as pd\n",
        "print('0 CV ElasticNet R2: ', np.mean(scores_1), np.std(scores_1))\n",
        "print('1 CV Lasso R2: ', np.mean(scores_2), np.std(scores_2))\n",
        "print('2 CV Ridge R2: ', np.mean(scores_3), np.std(scores_3))\n",
        "print('3 CV LR R2: ', np.mean(scores_4), np.std(scores_4))"
      ]
    },
    {
      "cell_type": "code",
      "execution_count": 6,
      "metadata": {
        "collapsed": true,
        "id": "7Mbc0-tfJUhD"
      },
      "outputs": [],
      "source": []
    }
  ],
  "metadata": {
    "kernelspec": {
      "display_name": "Python 3",
      "language": "python",
      "name": "python3"
    },
    "language_info": {
      "codemirror_mode": {
        "name": "ipython",
        "version": 3
      },
      "file_extension": ".py",
      "mimetype": "text/x-python",
      "name": "python",
      "nbconvert_exporter": "python",
      "pygments_lexer": "ipython3",
      "version": "3.8.5"
    },
    "colab": {
      "provenance": []
    }
  },
  "nbformat": 4,
  "nbformat_minor": 0
}