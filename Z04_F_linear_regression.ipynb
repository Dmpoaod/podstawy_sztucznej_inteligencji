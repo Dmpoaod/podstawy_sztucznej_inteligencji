{
  "cells": [
    {
      "cell_type": "markdown",
      "metadata": {
        "id": "dECXqQiUywMk"
      },
      "source": [
        "# Regresja liniowa\n",
        "\n",
        "Naszym Celem jest empityczne sprawdzenie twierdzenia:\n",
        "\n",
        "Niech $A \\in \\mathbb{R}^{N\\times K}$ będzie macierzą która przekształca $\\mathbb{R}^{K}$ w $\\mathbb{R}^N$, i niech $y \\in \\mathbb{R}^{K}$.\n",
        "\n",
        "Wtedy punkt $x_0 \\in \\mathbb{R}^K$ spełnia\n",
        "\n",
        "$$\n",
        "x_0 = \\mathrm{argmin} \\{ x \\in \\mathbb{R}^K   \\colon \\| Ax - y \\|^2 \\}\n",
        "$$\n",
        "\n",
        "wtedy i tylko wtedy gdy\n",
        "\n",
        "$$\n",
        "A^TA x_0 = A^Ty.\n",
        "$$\n"
      ]
    },
    {
      "cell_type": "code",
      "execution_count": 1,
      "metadata": {
        "collapsed": true,
        "id": "n6XvNdH1ywMn"
      },
      "outputs": [],
      "source": [
        "import numpy as np\n",
        "import scipy.stats as st\n",
        "import sklearn.linear_model as lm\n",
        "import matplotlib.pyplot as plt"
      ]
    },
    {
      "cell_type": "markdown",
      "metadata": {
        "id": "-bsAZqHhywMo"
      },
      "source": [
        "Proszę wykres funkcji w kształcie \n",
        "\n",
        "$\n",
        "f(x)=x^2\n",
        "$ \n",
        "\n",
        "na odcinku $[0,3]$ i go narysować.\n",
        "\n",
        "Będzie to model, który będziemy chcieli znaleźć."
      ]
    },
    {
      "cell_type": "code",
      "execution_count": 4,
      "metadata": {
        "id": "oJJKMmNwywMp",
        "outputId": "8d03879c-2063-4300-acd3-0c087d2cb022",
        "colab": {
          "base_uri": "https://localhost:8080/",
          "height": 378
        }
      },
      "outputs": [
        {
          "output_type": "display_data",
          "data": {
            "text/plain": [
              "<Figure size 432x432 with 1 Axes>"
            ],
            "image/png": "[encoded data removed]"
          },
          "metadata": {
            "needs_background": "light"
          }
        }
      ],
      "source": [
        "f = lambda x: (x**2)\n",
        "x_tr = np.linspace(0., 3, 200)\n",
        "y_tr = f(x_tr)\n",
        "plt.figure(figsize=(6,6));\n",
        "axes = plt.gca()\n",
        "axes.set_xlim([0,3])\n",
        "axes.set_ylim([0,8])\n",
        "plt.plot(x_tr[:200], y_tr[:200], '--k');\n",
        "plt.show()"
      ]
    },
    {
      "cell_type": "markdown",
      "metadata": {
        "id": "f9VaOQIhywMp"
      },
      "source": [
        "Proszę wylosować kilka punktów z otoczenia funkcji $f(x)=x^2$.\n",
        "\n",
        "Na ich podstawie będziemy wykonywać naszej presykcji."
      ]
    },
    {
      "cell_type": "code",
      "execution_count": 5,
      "metadata": {
        "id": "DlIc7b4MywMq",
        "outputId": "4406aa9c-84d0-40d6-d26a-75fe8dcdf074",
        "colab": {
          "base_uri": "https://localhost:8080/",
          "height": 378
        }
      },
      "outputs": [
        {
          "output_type": "display_data",
          "data": {
            "text/plain": [
              "<Figure size 432x432 with 1 Axes>"
            ],
            "image/png": "[encoded data removed]"
          },
          "metadata": {
            "needs_background": "light"
          }
        }
      ],
      "source": [
        "x = np.array([.2, .5, .8, .9, 1.3, 1.7, 2.1, 2.7])\n",
        "y = f(x) + np.random.randn(len(x))\n",
        "plt.figure(figsize=(6,6));\n",
        "axes = plt.gca()\n",
        "axes.set_xlim([0,3])\n",
        "axes.set_ylim([0,8])\n",
        "plt.plot(x_tr, y_tr, '--k');\n",
        "plt.plot(x, y, 'ok', ms=10);\n",
        "plt.show()"
      ]
    },
    {
      "cell_type": "markdown",
      "metadata": {
        "id": "IbECv23FywMq"
      },
      "source": [
        "Nauczmy prosty model regresji liniowej\n",
        "\n",
        "$$\n",
        "y=a\\cdot x + b\n",
        "$$\n",
        "\n",
        "na naszych danych.\n",
        "\n",
        "Oraz narysujmy prostą regresji."
      ]
    },
    {
      "cell_type": "code",
      "execution_count": 6,
      "metadata": {
        "id": "mFOdM6OTywMq",
        "outputId": "f09c1846-78ca-40c7-f988-f9b4272e07d4",
        "colab": {
          "base_uri": "https://localhost:8080/"
        }
      },
      "outputs": [
        {
          "output_type": "stream",
          "name": "stdout",
          "text": [
            "[3.89002003]\n",
            "-2.1667425595186574\n"
          ]
        }
      ],
      "source": [
        "# We create the model.\n",
        "lr = lm.LinearRegression()\n",
        "# We train the model on our training dataset.\n",
        "lr.fit(x[:, np.newaxis], y);\n",
        "print(lr.coef_)\n",
        "print(lr.intercept_)"
      ]
    },
    {
      "cell_type": "markdown",
      "metadata": {
        "id": "-8r0l0PbywMr"
      },
      "source": [
        "Definiujemy naszą funkcję regresji"
      ]
    },
    {
      "cell_type": "code",
      "execution_count": 7,
      "metadata": {
        "collapsed": true,
        "id": "K5TxALzjywMr"
      },
      "outputs": [],
      "source": [
        "f_lr = lambda x: lr.coef_ * x +lr.intercept_"
      ]
    },
    {
      "cell_type": "code",
      "execution_count": 8,
      "metadata": {
        "id": "zXsxES2CywMr",
        "outputId": "5f11d5e5-d147-47a1-8a21-54200cc868ad",
        "colab": {
          "base_uri": "https://localhost:8080/",
          "height": 378
        }
      },
      "outputs": [
        {
          "output_type": "display_data",
          "data": {
            "text/plain": [
              "<Figure size 432x432 with 1 Axes>"
            ],
            "image/png": "[encoded data removed]"
          },
          "metadata": {
            "needs_background": "light"
          }
        }
      ],
      "source": [
        "x_f_lr = np.linspace(0., 3, 200)\n",
        "y_f_lr = f_lr(x_tr)\n",
        "plt.figure(figsize=(6,6));\n",
        "axes = plt.gca()\n",
        "axes.set_xlim([0,3])\n",
        "axes.set_ylim([0,8])\n",
        "plt.plot(x_tr, y_tr, '--k');\n",
        "plt.plot(x_f_lr, y_f_lr, 'g');\n",
        "plt.plot(x, y, 'ok', ms=10);\n",
        "plt.show()"
      ]
    },
    {
      "cell_type": "markdown",
      "metadata": {
        "id": "ES2ACgAWywMs"
      },
      "source": [
        "Teraz możemy wykonać predykcję dla punktu \n",
        "$$\n",
        "x_0 = 1.5\n",
        "$$"
      ]
    },
    {
      "cell_type": "code",
      "execution_count": 9,
      "metadata": {
        "collapsed": true,
        "id": "AulBRtQDywMs"
      },
      "outputs": [],
      "source": [
        "point = np.array([1.5])\n",
        "y_point = lr.predict(point[:, np.newaxis])"
      ]
    },
    {
      "cell_type": "code",
      "execution_count": 10,
      "metadata": {
        "id": "1boaarVCywMs",
        "outputId": "381c2f51-d045-4261-cbbb-117cfe8a840a",
        "colab": {
          "base_uri": "https://localhost:8080/",
          "height": 378
        }
      },
      "outputs": [
        {
          "output_type": "display_data",
          "data": {
            "text/plain": [
              "<Figure size 432x432 with 1 Axes>"
            ],
            "image/png": "[encoded data removed]"
          },
          "metadata": {
            "needs_background": "light"
          }
        }
      ],
      "source": [
        "plt.figure(figsize=(6,6));\n",
        "axes = plt.gca()\n",
        "axes.set_xlim([0,3])\n",
        "axes.set_ylim([0,8])\n",
        "plt.plot(x_tr, y_tr, '--k');\n",
        "plt.plot(x_f_lr, y_f_lr, 'g');\n",
        "plt.plot(x, y, 'ok', ms=10);\n",
        "plt.plot(point, y_point, 'or', ms=10);\n",
        "plt.show()"
      ]
    },
    {
      "cell_type": "markdown",
      "metadata": {
        "id": "8ehf7HGpywMt"
      },
      "source": [
        "Możemy wypisać miarę dopasowania $R^2$. Narazie nie wnikamy w to co ona oznacza."
      ]
    },
    {
      "cell_type": "code",
      "execution_count": 11,
      "metadata": {
        "id": "MXyJimkSywMt",
        "outputId": "987617be-f021-4c9a-9d8b-335d05375573",
        "colab": {
          "base_uri": "https://localhost:8080/"
        }
      },
      "outputs": [
        {
          "output_type": "stream",
          "name": "stdout",
          "text": [
            "0.9306207670155724\n",
            "0.9254484367387144\n"
          ]
        }
      ],
      "source": [
        "from sklearn.metrics import r2_score\n",
        "print(lr.score(x[:, np.newaxis], y))\n",
        "print(r2_score(lr.predict(x[:, np.newaxis]), y))"
      ]
    },
    {
      "cell_type": "markdown",
      "metadata": {
        "id": "AusveIOlywMt"
      },
      "source": [
        "# Zadanie 1\n",
        "Stwórz macierz postaci:\n",
        "$$\n",
        "A=\\begin{bmatrix}\n",
        "x_1 & 1\\\\\n",
        "\\ddots & \\ddots\\\\\n",
        "x_n & 1\\\\\n",
        "\\end{bmatrix}\n",
        "$$\n",
        "\n",
        "i rozwiąż równanie\n",
        "\n",
        "$$\n",
        "A^TA x = A^Ty.\n",
        "$$\n",
        "\n",
        "gdzie (x,y) to nasz zbiór treningowy. \n",
        "\n",
        "Użyj funkcji <tt>linalg.solve</tt>."
      ]
    },
    {
      "cell_type": "code",
      "execution_count": 12,
      "metadata": {
        "id": "hyVKqXInywMt",
        "outputId": "4b8e8b82-9413-45ef-f729-b695b3e949cf",
        "colab": {
          "base_uri": "https://localhost:8080/"
        }
      },
      "outputs": [
        {
          "output_type": "execute_result",
          "data": {
            "text/plain": [
              "array([[0.2, 1. ],\n",
              "       [0.5, 1. ],\n",
              "       [0.8, 1. ],\n",
              "       [0.9, 1. ],\n",
              "       [1.3, 1. ],\n",
              "       [1.7, 1. ],\n",
              "       [2.1, 1. ],\n",
              "       [2.7, 1. ]])"
            ]
          },
          "metadata": {},
          "execution_count": 12
        }
      ],
      "source": [
        "deg=1\n",
        "xx=np.vander(x, deg + 1)\n",
        "xx"
      ]
    },
    {
      "cell_type": "code",
      "execution_count": 13,
      "metadata": {
        "collapsed": true,
        "id": "ItbHc7C4ywMu",
        "outputId": "7cb07eae-982d-4d51-dccf-23fa30f8f57d",
        "colab": {
          "base_uri": "https://localhost:8080/"
        }
      },
      "outputs": [
        {
          "output_type": "stream",
          "name": "stdout",
          "text": [
            "[-0.32628042  0.19708958  0.00776841  0.16414799  0.35036092  0.08052004\n",
            " -0.38808771 -2.25226137]\n",
            "[ 0.17559522 -0.09457859 -0.00299391 -0.05570633  0.01472105  0.40260019\n",
            "  0.75334673  2.69703568]\n"
          ]
        }
      ],
      "source": [
        "params = np.linalg.solve( np.dot(np.transpose(xx),xx),np.transpose(xx)*y)\n",
        "\n",
        "b, a = params\n",
        "\n",
        "print(a)\n",
        "print(b)"
      ]
    },
    {
      "cell_type": "markdown",
      "metadata": {
        "id": "xcm16Y62ywMu"
      },
      "source": [
        "# Zadanie 2\n",
        "Zapoznaj się z funkcją <tt>optimize.fmin_cg</tt>\n",
        "https://docs.scipy.org/doc/scipy-0.19.0/reference/generated/scipy.optimize.fmin_cg.html\n",
        "i znajdż minum funkcji\n",
        "\n",
        "$$\n",
        "f(x,y) = (x+1)^2+y^2\n",
        "$$"
      ]
    },
    {
      "cell_type": "code",
      "execution_count": 14,
      "metadata": {
        "collapsed": true,
        "id": "Rq1PfWfYywMu",
        "outputId": "33742627-1bff-4a06-ce2e-8935f51124c2",
        "colab": {
          "base_uri": "https://localhost:8080/"
        }
      },
      "outputs": [
        {
          "output_type": "stream",
          "name": "stdout",
          "text": [
            "Optimization terminated successfully.\n",
            "         Current function value: 0.000000\n",
            "         Iterations: 1\n",
            "         Function evaluations: 9\n",
            "         Gradient evaluations: 3\n"
          ]
        },
        {
          "output_type": "execute_result",
          "data": {
            "text/plain": [
              "array([-1.00000001e+00, -7.45058060e-09])"
            ]
          },
          "metadata": {},
          "execution_count": 14
        }
      ],
      "source": [
        "from scipy import optimize\n",
        "f = lambda x,y: (x+1)**2+y**2\n",
        "def fun (a):\n",
        "    x, y = a\n",
        "    return f(x,y)\n",
        "    \n",
        "optimize.fmin_cg(fun,np.array((0, 0)) )\n"
      ]
    },
    {
      "cell_type": "markdown",
      "metadata": {
        "id": "RWpA-bHoywMu"
      },
      "source": [
        "# Zadanie 3\n",
        "Zdafiniuj funkcję opisującą błąd kwadratowy:\n",
        "\n",
        "$$\n",
        "\\mathrm{compute\\_error}(a,b;(x,y)) =  \\sum_{i=1}^{n} ( y_i - (ax_i+b) )^2.\n",
        "$$"
      ]
    },
    {
      "cell_type": "code",
      "execution_count": 15,
      "metadata": {
        "collapsed": true,
        "id": "QW3we_ojywMu"
      },
      "outputs": [],
      "source": [
        "def compute_error(args):\n",
        "    a,b = args\n",
        "    return np.sum((y-(a*x+b))**2)"
      ]
    },
    {
      "cell_type": "markdown",
      "metadata": {
        "id": "zuKfJiD9ywMu"
      },
      "source": [
        "# Zadanie 4\n",
        "Zminimalizuj funkcją $\\mathrm{compute\\_error}$ po parametrach $a,b$ (numerycznie).\n",
        "\n",
        "Czy wyniki są podobne do wyników z poprzednich zadań?"
      ]
    },
    {
      "cell_type": "code",
      "execution_count": 17,
      "metadata": {
        "collapsed": true,
        "id": "6JaA4px8ywMu",
        "outputId": "b2478cc2-000f-4f5c-aad1-84f4c6283ac8",
        "colab": {
          "base_uri": "https://localhost:8080/"
        }
      },
      "outputs": [
        {
          "output_type": "stream",
          "name": "stdout",
          "text": [
            "Optimization terminated successfully.\n",
            "         Current function value: 5.657589\n",
            "         Iterations: 2\n",
            "         Function evaluations: 15\n",
            "         Gradient evaluations: 5\n"
          ]
        },
        {
          "output_type": "execute_result",
          "data": {
            "text/plain": [
              "array([ 3.89002006, -2.16674255])"
            ]
          },
          "metadata": {},
          "execution_count": 17
        }
      ],
      "source": [
        "optimize.fmin_cg(compute_error,np.array((0, 0)) )"
      ]
    },
    {
      "cell_type": "markdown",
      "metadata": {
        "id": "lU5MdCRDywMu"
      },
      "source": [
        "# Zadanie 5\n",
        "Zdafiniuj funkcję opisującą błąd kwadratowy:\n",
        "\n",
        "$$\n",
        "\\mathrm{compute\\_error\\_1}(a,b;(x,y)) =  \\sum_{i=1}^{n} |y_i - (ax_i+b)|.\n",
        "$$"
      ]
    },
    {
      "cell_type": "code",
      "execution_count": 18,
      "metadata": {
        "collapsed": true,
        "id": "wdFF4_TAywMv"
      },
      "outputs": [],
      "source": [
        "def compute_error_1(args):\n",
        "    a,b = args\n",
        "    return np.sum(np.abs(y-(a*x+b)))"
      ]
    },
    {
      "cell_type": "markdown",
      "metadata": {
        "id": "AmXz5st5ywMv"
      },
      "source": [
        "# Zadanie 6\n",
        "Zminimalizuj funkcją $\\mathrm{compute\\_error\\_1}$ po parametrach $a,b$ (numerycznie).\n",
        "\n",
        "Czy wyniki są podobne do wyników z poprzednich zadań?"
      ]
    },
    {
      "cell_type": "code",
      "execution_count": 19,
      "metadata": {
        "collapsed": true,
        "id": "9XyvUX8lywMv",
        "outputId": "d4694e94-9327-489c-c672-fa5d739f8e58",
        "colab": {
          "base_uri": "https://localhost:8080/"
        }
      },
      "outputs": [
        {
          "output_type": "stream",
          "name": "stdout",
          "text": [
            "Optimization terminated successfully.\n",
            "         Current function value: 5.726132\n",
            "         Iterations: 5\n",
            "         Function evaluations: 123\n",
            "         Gradient evaluations: 41\n"
          ]
        },
        {
          "output_type": "execute_result",
          "data": {
            "text/plain": [
              "array([ 3.87489371, -1.98229157])"
            ]
          },
          "metadata": {},
          "execution_count": 19
        }
      ],
      "source": [
        "optimize.fmin_cg(compute_error_1,np.array((0, 0)) )"
      ]
    },
    {
      "cell_type": "markdown",
      "metadata": {
        "collapsed": true,
        "id": "WjfImoLoywMv"
      },
      "source": [
        "# Zadanie 7\n",
        "Wykonaj dwie powyższe regresję na danych z wartością odstającą.\n"
      ]
    },
    {
      "cell_type": "code",
      "execution_count": 20,
      "metadata": {
        "id": "2GekuY-bywMv",
        "outputId": "01d0d0c9-a58e-497f-cdaa-4f005e097ab1",
        "colab": {
          "base_uri": "https://localhost:8080/",
          "height": 378
        }
      },
      "outputs": [
        {
          "output_type": "display_data",
          "data": {
            "text/plain": [
              "<Figure size 432x432 with 1 Axes>"
            ],
            "image/png": "[encoded data removed]"
          },
          "metadata": {
            "needs_background": "light"
          }
        }
      ],
      "source": [
        "f = lambda x: (x)\n",
        "x_tr = np.linspace(0., 3, 200)\n",
        "y_tr = f(x_tr)\n",
        "x = np.array([.2, .5, .8, .9, 1.3, 1.7, 2.1, 2.7])\n",
        "y = f(x) + np.random.randn(len(x))/5\n",
        "y[1]=y[1]+10\n",
        "plt.figure(figsize=(6,6));\n",
        "axes = plt.gca()\n",
        "axes.set_xlim([0,3])\n",
        "axes.set_ylim([0,12])\n",
        "plt.plot(x_tr, y_tr, '--k');\n",
        "plt.plot(x, y, 'ok', ms=10);\n",
        "plt.show()"
      ]
    },
    {
      "cell_type": "code",
      "execution_count": 21,
      "metadata": {
        "collapsed": true,
        "id": "TLHuGYViywMv"
      },
      "outputs": [],
      "source": [
        "points = np.column_stack((x,y))"
      ]
    },
    {
      "cell_type": "code",
      "execution_count": 22,
      "metadata": {
        "collapsed": true,
        "id": "O57T31MxywMv",
        "outputId": "64377664-85e6-46c7-a23c-525396bf9175",
        "colab": {
          "base_uri": "https://localhost:8080/",
          "height": 413
        }
      },
      "outputs": [
        {
          "output_type": "stream",
          "name": "stdout",
          "text": [
            "[-0.50949108]\n",
            "3.1255646030054574\n"
          ]
        },
        {
          "output_type": "display_data",
          "data": {
            "text/plain": [
              "<Figure size 432x432 with 1 Axes>"
            ],
            "image/png": "[encoded data removed]"
          },
          "metadata": {
            "needs_background": "light"
          }
        }
      ],
      "source": [
        "lr = lm.LinearRegression()\n",
        "lr.fit(x[:, np.newaxis], y)\n",
        "print(lr.coef_)\n",
        "print(lr.intercept_)\n",
        "\n",
        "f_lr = lambda x: lr.coef_ * x +lr.intercept_\n",
        "\n",
        "x_f_lr = np.linspace(0., 3, 200)\n",
        "y_f_lr = f_lr(x_tr)\n",
        "plt.figure(figsize=(6,6))\n",
        "axes = plt.gca()\n",
        "axes.set_xlim([0,3])\n",
        "axes.set_ylim([0,12])\n",
        "plt.plot(x_tr, y_tr, '--k');\n",
        "plt.plot(x_f_lr, y_f_lr, 'g');\n",
        "plt.plot(x, y, 'ok', ms=10);\n",
        "plt.show()"
      ]
    }
  ],
  "metadata": {
    "kernelspec": {
      "display_name": "Python 3",
      "language": "python",
      "name": "python3"
    },
    "language_info": {
      "codemirror_mode": {
        "name": "ipython",
        "version": 3
      },
      "file_extension": ".py",
      "mimetype": "text/x-python",
      "name": "python",
      "nbconvert_exporter": "python",
      "pygments_lexer": "ipython3",
      "version": "3.8.5"
    },
    "colab": {
      "provenance": []
    }
  },
  "nbformat": 4,
  "nbformat_minor": 0
}