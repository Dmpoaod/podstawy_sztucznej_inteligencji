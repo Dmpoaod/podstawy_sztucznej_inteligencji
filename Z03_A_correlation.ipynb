{
  "cells": [
    {
      "cell_type": "code",
      "execution_count": 2,
      "metadata": {
        "collapsed": true,
        "id": "OGxmCN8BYxSn"
      },
      "outputs": [],
      "source": [
        "import numpy as np\n",
        "from scipy import stats\n",
        "import pandas as pd\n",
        "import matplotlib.pyplot as plt"
      ]
    },
    {
      "cell_type": "markdown",
      "metadata": {
        "id": "es2fXBDMYxSr"
      },
      "source": [
        "# Korelacja"
      ]
    },
    {
      "cell_type": "markdown",
      "metadata": {
        "id": "UveiVQnDYxSs"
      },
      "source": [
        "Współczynnik korelacji między dwiema zmiennymi odpowiada na pytanie: \n",
        "\n",
        "<i>Czy dwie zmienne są powiązane? </i> \n",
        "\n",
        "## Współczynnik korelacji Pearsona \n",
        "\n",
        "Współczynnik korelacji Pearsona - współczynnik określający poziom zależności liniowej między zmiennymi losowymi.\n",
        "\n",
        "## Korelacja rang Spearmana \n",
        "\n",
        "Korelacja rang Spearmana (lub: korelacja rangowa Spearmana, rho Spearmana) – jedna z nieparametrycznych miar monotonicznej zależności statystycznej między zmiennymi losowymi.\n",
        "\n",
        "Korelacja rangowa przyjmuje zawsze wartości z przedziału $[-1,+1]$. Ich interpretacja jest podobna do klasycznego współczynnika korelacji Pearsona, z jednym zastrzeżeniem: \n",
        "- w odróżnieniu od współczynnika Pearsona, który mierzy liniową zależność między zmiennymi, a wszelkie inne związki traktuje jak zaburzone zależności liniowe, korelacja rangowa pokazuje dowolną monotoniczną zależność (także nieliniową).\n",
        "\n",
        "## Korelacja Tau Kendalla \n",
        "\n",
        "Tau Kendalla – statystyka będąca jedną z miar monotonicznej zależności dwóch zmiennych losowych. Służy w praktyce do opisu korelacji między zmiennymi porządkowymi.\n",
        "\n",
        "Tau Kendalla przyjmuje wartości od -1 do 1 włącznie. +1 oznacza, że każda ze zmiennych rośnie przy wzroście drugiej. -1 oznacza że każda maleje przy wzroście drugiej. Tym samym tau Kendalla, podobnie jak korelacja rangowa jest miarą monotonicznej zależności zmiennych losowych."
      ]
    },
    {
      "cell_type": "markdown",
      "metadata": {
        "id": "8LADDx7oYxSs"
      },
      "source": [
        "# Zadanie 1 \n",
        "Policz korelacje: \n",
        "<ul>\n",
        "<li>pearson</li>\n",
        "<li>spearman</li>\n",
        "<li>kendall</li>\n",
        "</ul>\n",
        "\n",
        "dla zbioru:"
      ]
    },
    {
      "cell_type": "code",
      "execution_count": 3,
      "metadata": {
        "collapsed": true,
        "id": "glWCnmYyYxSt"
      },
      "outputs": [],
      "source": [
        "f = lambda x: (x)\n",
        "x_tr = np.linspace(0., 5, 200)\n",
        "y_tr = f(x_tr)\n",
        "x = stats.uniform(1,3).rvs(100)\n",
        "y = f(x) + stats.norm(0,0.1).rvs(len(x))"
      ]
    },
    {
      "cell_type": "code",
      "execution_count": 4,
      "metadata": {
        "id": "Qko1X7D-YxSt",
        "outputId": "75906e78-8ff8-4f4a-cb67-85a33eb5692f",
        "colab": {
          "base_uri": "https://localhost:8080/",
          "height": 378
        }
      },
      "outputs": [
        {
          "output_type": "display_data",
          "data": {
            "text/plain": [
              "<Figure size 432x432 with 1 Axes>"
            ],
            "image/png": "[encoded data removed]"
          },
          "metadata": {
            "needs_background": "light"
          }
        }
      ],
      "source": [
        "plt.figure(figsize=(6,6));\n",
        "axes = plt.gca()\n",
        "axes.set_xlim([0,5])\n",
        "axes.set_ylim([0,5])\n",
        "plt.plot(x_tr, y_tr, '--k');\n",
        "plt.plot(x, y, 'ok', ms=3);\n",
        "plt.show()"
      ]
    },
    {
      "cell_type": "code",
      "execution_count": 5,
      "metadata": {
        "id": "fvF03ToiYxSu",
        "outputId": "463b9f05-f54d-40a4-c02a-9f43438e32d8",
        "colab": {
          "base_uri": "https://localhost:8080/"
        }
      },
      "outputs": [
        {
          "output_type": "stream",
          "name": "stdout",
          "text": [
            "{'pearson': 0.9927985540017552, 'spearman': 0.9912391239123911, 'kendall': 0.922828282828283}\n"
          ]
        }
      ],
      "source": [
        "corr = {}\n",
        "corr['pearson'], _ = stats.pearsonr(x,y)\n",
        "corr['spearman'], _ = stats.spearmanr(x,y)\n",
        "corr['kendall'], _ = stats.kendalltau(x,y)\n",
        "print(corr)    "
      ]
    },
    {
      "cell_type": "markdown",
      "metadata": {
        "id": "xVEbse1IYxSu"
      },
      "source": [
        "# Zadanie 2 \n",
        "Policz korelacje: \n",
        "<ul>\n",
        "<li>pearson</li>\n",
        "<li>spearman</li>\n",
        "<li>kendall</li>\n",
        "</ul>\n",
        "\n",
        "dla zbioru:"
      ]
    },
    {
      "cell_type": "code",
      "execution_count": 6,
      "metadata": {
        "collapsed": true,
        "id": "fuj1m0m2YxSu"
      },
      "outputs": [],
      "source": [
        "f = lambda x: (-x+5)\n",
        "x_tr = np.linspace(0., 5, 200)\n",
        "y_tr = f(x_tr)\n",
        "x = stats.uniform(1,3).rvs(100)\n",
        "y = f(x) + stats.norm(0,0.1).rvs(len(x))"
      ]
    },
    {
      "cell_type": "code",
      "execution_count": 7,
      "metadata": {
        "id": "DdDPg0cTYxSv",
        "outputId": "be07fe61-b13e-44bf-ec47-055c8759931a",
        "colab": {
          "base_uri": "https://localhost:8080/",
          "height": 378
        }
      },
      "outputs": [
        {
          "output_type": "display_data",
          "data": {
            "text/plain": [
              "<Figure size 432x432 with 1 Axes>"
            ],
            "image/png": "[encoded data removed]"
          },
          "metadata": {
            "needs_background": "light"
          }
        }
      ],
      "source": [
        "plt.figure(figsize=(6,6));\n",
        "axes = plt.gca()\n",
        "axes.set_xlim([0,5])\n",
        "axes.set_ylim([0,5])\n",
        "plt.plot(x_tr, y_tr, '--k');\n",
        "plt.plot(x, y, 'ok', ms=3);\n",
        "plt.show()"
      ]
    },
    {
      "cell_type": "code",
      "execution_count": 8,
      "metadata": {
        "collapsed": true,
        "id": "TW5PyHn8YxSv",
        "outputId": "15b1e365-5c9b-4e17-a8eb-ab7144ae3f8a",
        "colab": {
          "base_uri": "https://localhost:8080/"
        }
      },
      "outputs": [
        {
          "output_type": "stream",
          "name": "stdout",
          "text": [
            "{'pearson': -0.9924576875226643, 'spearman': -0.9927512751275126, 'kendall': -0.930909090909091}\n"
          ]
        }
      ],
      "source": [
        "corr = {}\n",
        "corr['pearson'], _ = stats.pearsonr(x,y)\n",
        "corr['spearman'], _ = stats.spearmanr(x,y)\n",
        "corr['kendall'], _ = stats.kendalltau(x,y)\n",
        "print(corr) "
      ]
    },
    {
      "cell_type": "markdown",
      "metadata": {
        "id": "i8MQcxM3YxSv"
      },
      "source": [
        "# Zadanie 3\n",
        "Policz korelacje: \n",
        "<ul>\n",
        "<li>pearson</li>\n",
        "<li>spearman</li>\n",
        "<li>kendall</li>\n",
        "</ul>\n",
        "\n",
        "dla zbioru:"
      ]
    },
    {
      "cell_type": "code",
      "execution_count": null,
      "metadata": {
        "id": "hBA3BkceYxSv",
        "outputId": "e8a44afd-fb17-4294-fd0a-5be61e2fe02c"
      },
      "outputs": [
        {
          "data": {
            "image/png": "[encoded data removed]",
            "text/plain": [
              "<Figure size 432x432 with 1 Axes>"
            ]
          },
          "metadata": {},
          "output_type": "display_data"
        }
      ],
      "source": [
        "f = lambda x: (x)\n",
        "x_tr = np.linspace(0., 5, 200)\n",
        "y_tr = f(x_tr)\n",
        "x = stats.uniform(1,3).rvs(100)\n",
        "y = f(x) + stats.norm(0,0.5).rvs(len(x))\n",
        "\n",
        "plt.figure(figsize=(6,6));\n",
        "axes = plt.gca()\n",
        "axes.set_xlim([0,5])\n",
        "axes.set_ylim([0,5])\n",
        "plt.plot(x_tr, y_tr, '--k');\n",
        "plt.plot(x, y, 'ok', ms=3);\n",
        "plt.show()"
      ]
    },
    {
      "cell_type": "code",
      "execution_count": 9,
      "metadata": {
        "collapsed": true,
        "id": "bgfU9j9PYxSw",
        "outputId": "0c88c3bb-df16-44c4-d19c-5215cf943253",
        "colab": {
          "base_uri": "https://localhost:8080/"
        }
      },
      "outputs": [
        {
          "output_type": "stream",
          "name": "stdout",
          "text": [
            "{'pearson': -0.9924576875226643, 'spearman': -0.9927512751275126, 'kendall': -0.930909090909091}\n"
          ]
        }
      ],
      "source": [
        "corr = {}\n",
        "corr['pearson'], _ = stats.pearsonr(x,y)\n",
        "corr['spearman'], _ = stats.spearmanr(x,y)\n",
        "corr['kendall'], _ = stats.kendalltau(x,y)\n",
        "print(corr)  "
      ]
    },
    {
      "cell_type": "markdown",
      "metadata": {
        "id": "SR_uDwIcYxSw"
      },
      "source": [
        "# Zadanie 4\n",
        "Policz korelacje: \n",
        "<ul>\n",
        "<li>pearson</li>\n",
        "<li>spearman</li>\n",
        "<li>kendall</li>\n",
        "</ul>\n",
        "\n",
        "dla zbioru:"
      ]
    },
    {
      "cell_type": "code",
      "execution_count": null,
      "metadata": {
        "collapsed": true,
        "id": "M5VJ8ucxYxSw"
      },
      "outputs": [],
      "source": [
        "f = lambda x: x**2\n",
        "x_tr = np.linspace(-10, 10, 200)\n",
        "y_tr = f(x_tr)\n",
        "x = stats.uniform(-3,6).rvs(100)\n",
        "y = f(x) + stats.norm(0,0.3).rvs(len(x))"
      ]
    },
    {
      "cell_type": "code",
      "execution_count": null,
      "metadata": {
        "id": "FFOAwGteYxSw",
        "outputId": "3bc03294-21c1-49d7-b6d6-d805a03e661e"
      },
      "outputs": [
        {
          "data": {
            "image/png": "[encoded data removed]",
            "text/plain": [
              "<Figure size 432x432 with 1 Axes>"
            ]
          },
          "metadata": {},
          "output_type": "display_data"
        }
      ],
      "source": [
        "plt.figure(figsize=(6,6));\n",
        "axes = plt.gca()\n",
        "axes.set_xlim([-3,3])\n",
        "axes.set_ylim([0,10])\n",
        "# axes.set_ylim([np.min(y),f(5)])\n",
        "plt.plot(x_tr, y_tr, '--k');\n",
        "plt.plot(x, y, 'ok', ms=3);\n",
        "plt.show()"
      ]
    },
    {
      "cell_type": "code",
      "execution_count": null,
      "metadata": {
        "collapsed": true,
        "id": "0_Yb2VgjYxSw"
      },
      "outputs": [],
      "source": [
        "corr = {}\n",
        "corr['pearson'], _ = stats.pearsonr(x,y)\n",
        "corr['spearman'], _ = stats.spearmanr(x,y)\n",
        "corr['kendall'], _ = stats.kendalltau(x,y)\n",
        "print(corr)  "
      ]
    },
    {
      "cell_type": "markdown",
      "metadata": {
        "id": "4kRmSZWtYxSw"
      },
      "source": [
        "# Zadanie 5\n",
        "Wygeneruj zbiór tak by \n",
        "<ul>\n",
        "<li>korelacja pearsona wynosiła około 0.5</li>\n",
        "<li>korelacja spearmana wynosiła około 1</li>\n",
        "<li>korelacja kendalla wynosiła około 1</li>\n",
        "</ul>"
      ]
    },
    {
      "cell_type": "code",
      "execution_count": 10,
      "metadata": {
        "collapsed": true,
        "id": "hslr7vUvYxSw",
        "outputId": "dbff0ab6-3f15-4fb1-ab16-b368beeead79",
        "colab": {
          "base_uri": "https://localhost:8080/",
          "height": 378
        }
      },
      "outputs": [
        {
          "output_type": "display_data",
          "data": {
            "text/plain": [
              "<Figure size 432x432 with 1 Axes>"
            ],
            "image/png": "[encoded data removed]"
          },
          "metadata": {
            "needs_background": "light"
          }
        }
      ],
      "source": [
        "f = lambda x: x**22\n",
        "x_tr = np.linspace(0, 10, 10000)\n",
        "y_tr = f(x_tr)\n",
        "x = stats.uniform(8,18).rvs(1000)\n",
        "y = f(x) + stats.norm(0,0.3).rvs(len(x))\n",
        "\n",
        "plt.figure(figsize=(6,6));\n",
        "axes = plt.gca()\n",
        "axes.set_xlim([0,10])\n",
        "axes.set_ylim([0,10])\n",
        "\n",
        "plt.plot(x_tr, y_tr, '--k');\n",
        "plt.plot(x, y, 'ok', ms=3);\n",
        "plt.show()"
      ]
    },
    {
      "cell_type": "code",
      "execution_count": 11,
      "metadata": {
        "collapsed": true,
        "id": "MhoBwKjIYxSx",
        "outputId": "eb3be318-7dbc-4c45-fc3e-f6a3d80ddc4b",
        "colab": {
          "base_uri": "https://localhost:8080/"
        }
      },
      "outputs": [
        {
          "output_type": "stream",
          "name": "stdout",
          "text": [
            "{'pearson': 0.5646729332649352, 'spearman': 1.0, 'kendall': 1.0}\n"
          ]
        }
      ],
      "source": [
        "corr = {}\n",
        "corr['pearson'], _ = stats.pearsonr(x,y)\n",
        "corr['spearman'], _ = stats.spearmanr(x,y)\n",
        "corr['kendall'], _ = stats.kendalltau(x,y)\n",
        "print(corr)  "
      ]
    }
  ],
  "metadata": {
    "kernelspec": {
      "display_name": "Python 3",
      "language": "python",
      "name": "python3"
    },
    "language_info": {
      "codemirror_mode": {
        "name": "ipython",
        "version": 3
      },
      "file_extension": ".py",
      "mimetype": "text/x-python",
      "name": "python",
      "nbconvert_exporter": "python",
      "pygments_lexer": "ipython3",
      "version": "3.8.5"
    },
    "colab": {
      "provenance": []
    }
  },
  "nbformat": 4,
  "nbformat_minor": 0
}