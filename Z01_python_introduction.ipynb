{
  "cells": [
    {
      "cell_type": "markdown",
      "metadata": {
        "id": "w0M1hY14Lw2s"
      },
      "source": [
        "# Podstawowe operatory\n",
        "\n",
        " * \\+ – dodawanie: 4 + 7.5 daje 11.5;\n",
        " * \\- – odejmowanie: 30 - 24 daje 6;\n",
        " * \\* – mnożenie: 2 * 3 daje 6;\n",
        " * \\*\\* – potęgowanie: 3 ** 4 daje 81;\n",
        " * / – dzielenie: 4 / 3 daje 1;\n",
        " * // – dzielenie całkowite: 4 // 3.0 daje 1;\n",
        " * % – dzielenie modulo: 8 % 3 daje 2. "
      ]
    },
    {
      "cell_type": "markdown",
      "metadata": {
        "id": "WSSHsSqFLw2w"
      },
      "source": [
        "# Operatory porównania:\n",
        "\n",
        " * < – mniejsze,\n",
        " * \\> – większe,\n",
        " * <= – mniejsze lub równe,\n",
        " * == – równe,\n",
        " * != – różne. "
      ]
    },
    {
      "cell_type": "markdown",
      "metadata": {
        "id": "GHJc9qhFLw2w"
      },
      "source": [
        "# 1. Warunki\n",
        "Python używa zmiennych logicznych w celu oceny warunków. \n",
        "Wartości logiczne prawda (True) i fałsz (False) są zwracane, gdy wyrażenie jest porównywane i oceniane. \n",
        "\n",
        "Na przykład:"
      ]
    },
    {
      "cell_type": "code",
      "execution_count": null,
      "metadata": {
        "id": "iwyEQx6XLw2w",
        "outputId": "4cfddda7-8912-48da-a5fb-24c0804b1917"
      },
      "outputs": [
        {
          "name": "stdout",
          "output_type": "stream",
          "text": [
            "True\n",
            "False\n",
            "True\n"
          ]
        }
      ],
      "source": [
        "x = 2\n",
        "print(x == 2)\n",
        "print(x == 3)\n",
        "print(x < 3)"
      ]
    },
    {
      "cell_type": "markdown",
      "metadata": {
        "id": "hm9RHL9qLw2y"
      },
      "source": [
        "# 1.1 Instrukcje Warunkowe\n",
        "Aby uzależnić wykonanie instrukcji od rezultatu porównania, używamy instrukcji warunkowej"
      ]
    },
    {
      "cell_type": "code",
      "execution_count": null,
      "metadata": {
        "id": "eC5OqPDxLw2y",
        "outputId": "6f3abbda-443c-4b38-96bb-0857084804a7"
      },
      "outputs": [
        {
          "name": "stdout",
          "output_type": "stream",
          "text": [
            "OK\n"
          ]
        }
      ],
      "source": [
        "x=2\n",
        "\n",
        "if x==2: \n",
        "    print(\"OK\")"
      ]
    },
    {
      "cell_type": "markdown",
      "metadata": {
        "id": "Duk7UElsLw2y"
      },
      "source": [
        "Przykład bardziej skomplikowany:"
      ]
    },
    {
      "cell_type": "code",
      "execution_count": null,
      "metadata": {
        "id": "CEWolxybLw2y",
        "outputId": "120a474b-d797-4a05-d5af-e0b9dc8bc38d"
      },
      "outputs": [
        {
          "name": "stdout",
          "output_type": "stream",
          "text": [
            "2\n"
          ]
        }
      ],
      "source": [
        "a = 2\n",
        "b = 4\n",
        "if a > b:\n",
        "    print(b)\n",
        "else:\n",
        "    print(a)"
      ]
    },
    {
      "cell_type": "markdown",
      "metadata": {
        "id": "jUx5U-33Lw2z"
      },
      "source": [
        "W powyższym przykładzie użyliśmy pełnej instrukcji warunkowej <b>IF/ELSE</b>. Istnieje jeszcze bardziej bogatsza instrukcja warunkowa tzw. instrukcja wyboru wielokrotnego <b>IF/ELIF/ELSE</b>:"
      ]
    },
    {
      "cell_type": "code",
      "execution_count": null,
      "metadata": {
        "id": "ItgdpwBwLw2z",
        "outputId": "c0526b25-4f61-4b12-fb40-ce39ea49e83a"
      },
      "outputs": [
        {
          "name": "stdout",
          "output_type": "stream",
          "text": [
            "Ten program porównuje dwie liczby\n",
            "Podaj pierwszą z dwóch liczb:\n",
            "Podaj drugą z dwóch liczb:\n",
            "Liczba  w stosunku do  jest:\n",
            "taka sama\n"
          ]
        }
      ],
      "source": [
        "print(\"Ten program porównuje dwie liczby\")\n",
        "x = input(\"Podaj pierwszą z dwóch liczb:\")                                 \n",
        "y = input(\"Podaj drugą z dwóch liczb:\")                                    \n",
        "print(\"Liczba\",x,\"w stosunku do\",y,\"jest:\",)\n",
        "if x==y:\n",
        "    print(\"taka sama\")\n",
        "elif x>y:\n",
        "    print(\"większa\")\n",
        "else:\n",
        "    print(\"mniejsza\")"
      ]
    },
    {
      "cell_type": "markdown",
      "metadata": {
        "id": "guNhJw9xLw20"
      },
      "source": [
        "# Operatory logiczne\n",
        "Operatory logiczne, takie jak: <b>and</b> i <b>or</b> umożliwiają budowanie złożonych wyrażeń logicznych, na przykład:"
      ]
    },
    {
      "cell_type": "markdown",
      "metadata": {
        "id": "ZAkF-Pe6Lw20"
      },
      "source": [
        "# Zad. 1\n",
        "\n",
        "Napisz program, który sprawdzi, czy podane przez użytkownika koła mają niepuste przecięcie. Użytkownik programu podaje współrzędne środka oraz promień każdego koła.\n"
      ]
    },
    {
      "cell_type": "code",
      "execution_count": null,
      "metadata": {
        "collapsed": true,
        "id": "LXD-gwr8Lw20"
      },
      "outputs": [],
      "source": [
        "x1 = int(input())\n",
        "    y1 = int(input())\n",
        "    r1 = int(input())\n",
        "\n",
        "    x2 = int(input())\n",
        "    y2 = int(input())\n",
        "    r2 = int(input())\n",
        "\n",
        "    if (x1 - x2) ** 2 + (y1 - y2) ** 2 > (r1 + r2) ** 2:\n",
        "        print(\"brak przeciecia\")\n",
        "    else:\n",
        "        print(\"jest przeciecie\")"
      ]
    },
    {
      "cell_type": "markdown",
      "metadata": {
        "id": "KPyhsHNULw20"
      },
      "source": [
        "# Operator ,,in''\n",
        "Operator <b>in</b> może być używany w celu sprawdzenia, czy określony ,,obiekt'' istnieje w obrębie iterowalnego kontenera obiektów, np. listy:"
      ]
    },
    {
      "cell_type": "code",
      "execution_count": null,
      "metadata": {
        "collapsed": true,
        "id": "ClPw9q1tLw21"
      },
      "outputs": [],
      "source": [
        "if name in [\"John\", \"Rick\"]:\n",
        "    print(\"Your name is either John or Rick.\")"
      ]
    },
    {
      "cell_type": "markdown",
      "metadata": {
        "id": "OQ_pAEdTLw21"
      },
      "source": [
        "Instrukcje warunkowe możemy zagnieżdżać, np.:"
      ]
    },
    {
      "cell_type": "markdown",
      "metadata": {
        "id": "247YJkZsLw21"
      },
      "source": [
        "# 2. Pętle\n",
        "W Pythonie istnieją dwa typy pętli: <b>for<b> i <b>while<b>."
      ]
    },
    {
      "cell_type": "markdown",
      "metadata": {
        "id": "Whb4wRLWLw21"
      },
      "source": [
        "# 2.1 Pętle iterowane po elementach sekwencji\n",
        "\n",
        "Typowa pętla po liczbach:"
      ]
    },
    {
      "cell_type": "code",
      "execution_count": null,
      "metadata": {
        "id": "5_g3ERhCLw21",
        "outputId": "1d8d04a1-97af-40f3-c00f-ce4da376e7e1"
      },
      "outputs": [
        {
          "name": "stdout",
          "output_type": "stream",
          "text": [
            "3\n",
            "4\n",
            "5\n",
            "6\n",
            "7\n",
            "8\n",
            "9\n"
          ]
        }
      ],
      "source": [
        "for x in range(3,10):\n",
        "      print(x)"
      ]
    },
    {
      "cell_type": "markdown",
      "metadata": {
        "id": "_6ZfFpbfLw21"
      },
      "source": [
        "Funkcja <b>range</b> tworzy \"listę\" wartości całkowitych: \n",
        "\n",
        "- od zera do podanej wartości (jeżeli podamy 1 argument) \n",
        "- od - do (jeżeli podamy 2 argumenty)\n",
        "- możemy podać też trzeci parametr określający przyrost (normalnie +1).\n"
      ]
    },
    {
      "cell_type": "code",
      "execution_count": null,
      "metadata": {
        "id": "PdnrSf4-Lw22",
        "outputId": "7273941c-6412-4aaa-a137-96fe8138d56b"
      },
      "outputs": [
        {
          "name": "stdout",
          "output_type": "stream",
          "text": [
            "range(0, 10)\n",
            "range(3, 10)\n",
            "range(1, 10, 2)\n",
            "range(4, 0, -1)\n"
          ]
        }
      ],
      "source": [
        "print(range(10))\n",
        "print(range(3, 10))\n",
        "print(range(1,10,2))\n",
        "print(range(4,0,-1))"
      ]
    },
    {
      "cell_type": "markdown",
      "metadata": {
        "id": "N4qPid4_Lw22"
      },
      "source": [
        "Pętla <b>for</b> może też iterować inne typy danych, np napisy, listy:"
      ]
    },
    {
      "cell_type": "code",
      "execution_count": null,
      "metadata": {
        "id": "tQqCqWaALw22",
        "outputId": "2c12fc73-0457-4307-e329-c6321b0f71fb"
      },
      "outputs": [
        {
          "name": "stdout",
          "output_type": "stream",
          "text": [
            "Zdrabniamy literki\n",
            "2 3 5 7 \n",
            "apple orange peach "
          ]
        }
      ],
      "source": [
        "bar = \"Zdrabniamy literki\"\n",
        "for i in bar:\n",
        "    print(i, end =\"\")\n",
        "print()\n",
        "\n",
        "x = [2, 3, 5, 7]\n",
        "for i in x:\n",
        "    print(i, end =\" \") \n",
        "print()\n",
        "\n",
        "for e in ['apple', 'orange', 'peach']:\n",
        "    print(e, end =\" \")"
      ]
    },
    {
      "cell_type": "markdown",
      "metadata": {
        "id": "UVeXXjfNLw22"
      },
      "source": [
        "W takiej pętli nie mamy dostępu do indeksu elementu w liście, ale możemy taki uzyskać, odpowiednio mapując kolekcję za pomocą <b>enumerate</b> (generator):"
      ]
    },
    {
      "cell_type": "code",
      "execution_count": null,
      "metadata": {
        "id": "UtzNPcy_Lw22",
        "outputId": "e72bce47-620e-4443-fa47-beb3596480fd"
      },
      "outputs": [
        {
          "name": "stdout",
          "output_type": "stream",
          "text": [
            "[(0, 'apple'), (1, 'orange'), (2, 'peach')] \n",
            "\n",
            "0 apple\n",
            "1 orange\n",
            "2 peach\n"
          ]
        }
      ],
      "source": [
        "print(list(enumerate(['apple', 'orange', 'peach'])), \"\\n\")\n",
        "\n",
        "for i, x in enumerate(['apple', 'orange', 'peach']):\n",
        "    print(i, x)"
      ]
    },
    {
      "cell_type": "markdown",
      "metadata": {
        "id": "8psSHewsLw23"
      },
      "source": [
        "# 2.2 Pętla while\n",
        "\n",
        "Pętla **while** powtarza instrukcje znajdujące się w jej wnętrzu tak długo, dopóki podany warunek logiczny jest spełniony. \n",
        "\n",
        "Na przykład:"
      ]
    },
    {
      "cell_type": "code",
      "execution_count": null,
      "metadata": {
        "id": "lYC57wb7Lw23",
        "outputId": "6f5de196-b0b1-4eee-bdec-2906a69e22a4"
      },
      "outputs": [
        {
          "name": "stdout",
          "output_type": "stream",
          "text": [
            "[1, 2, 3, 4, 5]\n",
            "[1, 2, 3, 4]\n",
            "[1, 2, 3]\n",
            "[1, 2]\n",
            "[1]\n",
            "[]\n"
          ]
        }
      ],
      "source": [
        "x=[1,2,3,4,5,6]\n",
        "while x:\n",
        "    x=x[:len(x)-1] # funkcja len() zwraca długość listy (liczbę elementów)\n",
        "    print(x)"
      ]
    },
    {
      "cell_type": "code",
      "execution_count": null,
      "metadata": {
        "id": "Iasr2mo4Lw23",
        "outputId": "18ce7b67-c92e-4bef-cb7f-b98e4e302b5a"
      },
      "outputs": [
        {
          "name": "stdout",
          "output_type": "stream",
          "text": [
            "Jestem w while.\n",
            "Jestem w while.\n",
            "Jestem w while.\n",
            "Jestem w while.\n",
            "Jestem w while.\n"
          ]
        }
      ],
      "source": [
        "licznik = 10\n",
        "\n",
        "while licznik < 15:\n",
        "    licznik += 1\n",
        "    print(\"Jestem w while.\")"
      ]
    },
    {
      "cell_type": "markdown",
      "metadata": {
        "id": "SV3CcXUILw23"
      },
      "source": [
        "\n",
        "# Zad. 2\n",
        "Napisz program, który będzie wczytywał kolejne słowa i je wypisywał aż do wczytania słowa \"stop\" po którym program się zatrzyma.\n"
      ]
    },
    {
      "cell_type": "code",
      "execution_count": null,
      "metadata": {
        "id": "H4BHJAwVLw23"
      },
      "outputs": [],
      "source": [
        "ser_input: str = \"\"\n",
        "\n",
        "    while user_input != \"stop\":\n",
        "        user_input = input(\"Enter your string: \")\n",
        "        print(user_input)"
      ]
    },
    {
      "cell_type": "markdown",
      "metadata": {
        "id": "-Xo16QKsLw23"
      },
      "source": [
        "# Zad. 3\n",
        "\n",
        "Napisz program tworzący tablicę n na m elementową w kształcie tablicy szachowej. Np. dla\n",
        "<br />\n",
        "<tt>\n",
        "n = 5<br />\n",
        "m = 5\n",
        "</tt>\n",
        "\n",
        "otrzymujemy\n",
        "\n",
        "<br />\n",
        "<tt>\n",
        "10101<br />\n",
        "01010<br />\n",
        "10101<br />\n",
        "01010<br />\n",
        "10101<br />\n",
        "</tt>"
      ]
    },
    {
      "cell_type": "code",
      "execution_count": null,
      "metadata": {
        "id": "hGb4gZCuLw23"
      },
      "outputs": [],
      "source": [
        "m = int(input(\"m= \"))\n",
        "    n = int(input(\"n= \"))\n",
        "\n",
        "    i = 0\n",
        "    j = 0\n",
        "\n",
        "    while i < m:\n",
        "        while j < n:\n",
        "            print((i + j + 1) % 2, end=\"\")\n",
        "            j += 1\n",
        "        print()\n",
        "        i += 1\n",
        "        j = 0"
      ]
    },
    {
      "cell_type": "markdown",
      "metadata": {
        "id": "6Ix915R5Lw23"
      },
      "source": [
        "# 3. Formatowanie liczb\n",
        "\n",
        "Celem pętli często jest wyświetlenie kolumny liczb. \n",
        "\n",
        "Aby liczby wyświetlane były w należyty sposób i w pożądanym miejscu używamy operatora formatowania **%** w połączeniu z ciągiem formatującym. \n",
        "\n",
        "Ciąg formatujący składa się ze znaku **%**, po którym następują \n",
        "\n",
        "* opcje formatowania, \n",
        "* ilość znaków przeznaczonych do wyświetlenia \n",
        "* oraz typ danej do wyświetlenia \n",
        "(przy czym tylko trzeci element – tj. typ danych jest wymagany).\n",
        "\n",
        "Typ danej sygnalizujemy pojedynczą literą. I tak:\n",
        "* litera s oznacza napis (konwertuje każdy typ danych na tekst), np.:"
      ]
    },
    {
      "cell_type": "code",
      "execution_count": null,
      "metadata": {
        "id": "DWKwiFstLw24",
        "outputId": "7f5e213b-c925-471a-ee00-c55f645bc0ea"
      },
      "outputs": [
        {
          "name": "stdout",
          "output_type": "stream",
          "text": [
            "10\n",
            "[0, 1, 2, 3, 4, 5]\n",
            "txt\n",
            "      test\n",
            "test      \n",
            "xylop\n"
          ]
        }
      ],
      "source": [
        "# stary sposób\n",
        "\n",
        "print(\"%s\" % 10)\n",
        "print(\"%s\" % list(range(6)))\n",
        "print(\"%s\" % \"txt\")\n",
        "print('%10s' % 'test')\n",
        "print('%-10s' % 'test')\n",
        "print('%.5s' % 'xylophone')"
      ]
    },
    {
      "cell_type": "markdown",
      "metadata": {
        "id": "EHcCkYisLw24"
      },
      "source": [
        "* litera **d** oznacza dziesiętną liczbę całkowitą (konwertuje kompatybilny typ danych na liczbę całkowitą), np.:"
      ]
    },
    {
      "cell_type": "code",
      "execution_count": null,
      "metadata": {
        "id": "edzxy9woLw24",
        "outputId": "38b403ab-65a2-4b2a-cefa-f2a1c86328ab"
      },
      "outputs": [
        {
          "name": "stdout",
          "output_type": "stream",
          "text": [
            "255\n",
            "2\n",
            "255\n",
            "2\n"
          ]
        }
      ],
      "source": [
        "print(\"%d\" % 0xff)\n",
        "print(\"%d\" % 2)\n",
        "print('{:d}'.format(0xff))\n",
        "print('{:d}'.format(2))"
      ]
    },
    {
      "cell_type": "markdown",
      "metadata": {
        "id": "8MsvYGv4Lw24"
      },
      "source": [
        "* litera **f** oznacza liczbę zmiennopozycyjną w postaci ułamka dziesiętnego, np.:"
      ]
    },
    {
      "cell_type": "code",
      "execution_count": null,
      "metadata": {
        "id": "ulQrN3WLLw24",
        "outputId": "f7cf2afe-0dd9-4a99-f819-f0c4a3b57abb"
      },
      "outputs": [
        {
          "name": "stdout",
          "output_type": "stream",
          "text": [
            "123.000000\n",
            "1.230000\n",
            "123.000000\n",
            "1.230000\n"
          ]
        }
      ],
      "source": [
        "print(\"%f\" % 123)\n",
        "print(\"%f\" % 1.23)\n",
        "\n",
        "print('{:f}'.format(123))\n",
        "print('{:f}'.format(1.23))"
      ]
    },
    {
      "cell_type": "markdown",
      "metadata": {
        "id": "x2RpzSpKLw24"
      },
      "source": [
        "# Zad. 4\n",
        "\n",
        "Napisać program rysujący \"miarkę\" o zadanej długości. Należy prawidłowo obsłużyć liczby składające się z kilku cyfr, np.:\n",
        "\n",
        "$$|....|....|....|....|....|....|....|....|$$\n",
        "$$0 \\quad \\ 1 \\quad \\ 2 \\quad \\ 3 \\quad \\ 4 \\quad \\ 5 \\quad \\ 6 \\quad \\ 7 \\quad \\ 8$$"
      ]
    },
    {
      "cell_type": "code",
      "execution_count": null,
      "metadata": {
        "id": "xK5mzzCRLw24"
      },
      "outputs": [],
      "source": [
        "m = int(input())\n",
        "    for n in range(12):\n",
        "        print(\"|\", end=\"\")\n",
        "        for l in range(m):\n",
        "            print(\".\", end=\"\")\n",
        "\n",
        "    print(\"|\")\n",
        "\n",
        "    for number in range(12):\n",
        "        print(f'%s-{m}s' % str(number), end=\" \")"
      ]
    },
    {
      "cell_type": "markdown",
      "metadata": {
        "id": "4u8d0O10Lw25"
      },
      "source": [
        "# Funkcje\n",
        "\n",
        "Definicja funkcji musi zawierać:\n",
        "\n",
        "* nagłówek funkcji:\n",
        "  * nazwę funkcji, która pozwoli zidentyfikować funkcję w pozostałej części programu,\n",
        "  * listę argumentów\n",
        "* ciało funkcji, zawierające instrukcje, które zostaną wykonane w momencie wywołania (użycia) funkcji\n",
        "  * jeżeli funkcja ma zwracać jakiś rezultat, musi zawierać instrukcję ,,return''\n",
        "\n",
        "W języku Python składnia definicji funkcji jest następująca:"
      ]
    },
    {
      "cell_type": "code",
      "execution_count": null,
      "metadata": {
        "collapsed": true,
        "id": "2kh9VBnsLw25"
      },
      "outputs": [],
      "source": [
        "def nazwa_funkcji (lista_parametrow):\n",
        "    instrukcje_do_wykonania"
      ]
    },
    {
      "cell_type": "markdown",
      "metadata": {
        "id": "0HzetGKdLw25"
      },
      "source": [
        "Przykład funkcji:"
      ]
    },
    {
      "cell_type": "code",
      "execution_count": null,
      "metadata": {
        "id": "rvU17ZRlLw25",
        "outputId": "f8d0630f-6052-474f-f645-fc27457d434e"
      },
      "outputs": [
        {
          "name": "stdout",
          "output_type": "stream",
          "text": [
            "To jest użycie funkcji\n",
            "tak\n"
          ]
        }
      ],
      "source": [
        "# Przykład 1\n",
        "def wypisz(lancuch):\n",
        "    print(lancuch)\n",
        "    \n",
        "wypisz(\"To jest użycie funkcji\")\n",
        "x = \"tak\"\n",
        "wypisz(x)"
      ]
    },
    {
      "cell_type": "code",
      "execution_count": null,
      "metadata": {
        "id": "TXl9VwGPLw25",
        "outputId": "9c70103e-38ba-4438-9a4b-dd83efcb7d56"
      },
      "outputs": [
        {
          "name": "stdout",
          "output_type": "stream",
          "text": [
            "12\n",
            "1\n"
          ]
        }
      ],
      "source": [
        "# Przykład 2 - zwraca wynik\n",
        "def suma(x, y):\n",
        "    return x+y\n",
        "\n",
        "print(suma(4,8))\n",
        "x = suma(2, -1)\n",
        "print(x)"
      ]
    },
    {
      "cell_type": "markdown",
      "metadata": {
        "id": "u8XhbuYRLw25"
      },
      "source": [
        "## Wiele rezultatów\n",
        "Jeżeli chcemy aby funkcja zwracała więcej niż jedną zmienną to stosujemy krotkę ,,(zmienna_1, ..., zmienna_n)'':"
      ]
    },
    {
      "cell_type": "code",
      "execution_count": null,
      "metadata": {
        "id": "ucD5a2RFLw25",
        "outputId": "a5b4db49-d764-48ef-a06e-72d0038114cc"
      },
      "outputs": [
        {
          "name": "stdout",
          "output_type": "stream",
          "text": [
            "(6, -2)\n",
            "(6, -2)\n"
          ]
        }
      ],
      "source": [
        "def f1(a,b):\n",
        "    return a+b,a-b\n",
        "\n",
        "def f2(a,b):\n",
        "    return (a+b,a-b)\n",
        "\n",
        "print(f1(2, 4))\n",
        "print(f2(2, 4))"
      ]
    },
    {
      "cell_type": "markdown",
      "metadata": {
        "id": "tRtvLewcLw25"
      },
      "source": [
        "# Zad. 5\n",
        "\n",
        "Napisz funkcje, która zwraca:\n",
        "\n",
        "* sumę,\n",
        "* różnicę,\n",
        "* iloczyn elementów listy.\n"
      ]
    },
    {
      "cell_type": "code",
      "execution_count": null,
      "metadata": {
        "collapsed": true,
        "id": "CTHGQqBpLw25"
      },
      "outputs": [],
      "source": [
        "return (\n",
        "        functools.reduce(lambda x, y: x - y, list),\n",
        "        functools.reduce(lambda x, y: x + y, list),\n",
        "        functools.reduce(lambda x, y: x * y, list),\n",
        "    )"
      ]
    },
    {
      "cell_type": "markdown",
      "metadata": {
        "id": "qGjRj0jxLw26"
      },
      "source": [
        "# Typy sekwencyjne\n",
        "\n",
        "Sekwencyjne typy danych służą do przechowywaniu wielu wartości w pojedynczej zmiennej (w innych językach nazywane tablicami), w odróżnieniu od typów prostych, takich jak np. int, które w pojedynczej zmiennej mogą zachować tylko jedną wartość. Do typów sekwencyjnych należą: napisy (łańcuchy znaków), listy, krotki."
      ]
    },
    {
      "cell_type": "markdown",
      "metadata": {
        "id": "MSLjVjcyLw26"
      },
      "source": [
        "# 1. Napisy/łańcuchy\n",
        "Do tej pory poznaliśmy już jeden typ sekwencyjny, mianowicie typ łańcuchowy (łańcuchy znaków). Wartości napisów podajemy w cudzysłowach lub apostrofach:"
      ]
    },
    {
      "cell_type": "code",
      "execution_count": null,
      "metadata": {
        "id": "2HNDdL8NLw26",
        "outputId": "6628f175-4f4e-43f4-9bc2-84724f53c0d8"
      },
      "outputs": [
        {
          "name": "stdout",
          "output_type": "stream",
          "text": [
            "T\n",
            "o\n",
            "j\n",
            "s\n",
            "i\n",
            "p\n"
          ]
        }
      ],
      "source": [
        "x = \"To jest napis\"\n",
        "print(x[0])\n",
        "print(x[1])\n",
        "print(x[3])\n",
        "\n",
        "print(x[-1])\n",
        "print(x[-2])\n",
        "print(x[-3])"
      ]
    },
    {
      "cell_type": "code",
      "execution_count": null,
      "metadata": {
        "id": "Ec7de2I4Lw26",
        "outputId": "715785e9-9d0c-47e2-db2c-b76952e55210"
      },
      "outputs": [
        {
          "name": "stdout",
          "output_type": "stream",
          "text": [
            "13\n"
          ]
        }
      ],
      "source": [
        "x = \"To jest napis\"\n",
        "print(len(x))"
      ]
    },
    {
      "cell_type": "markdown",
      "metadata": {
        "id": "-zd33Y-aLw26"
      },
      "source": [
        "# 2. Listy\n",
        "Do zapamiętywania sekwencji danych nie będącymi znakami (np. liczby) służy typ sekwencyjny - **lista**. Elementy list mogą być dowolnego typu, to znaczy mogą zawierać zarówno liczby jak i napisy."
      ]
    },
    {
      "cell_type": "code",
      "execution_count": null,
      "metadata": {
        "id": "NX-V8yUNLw26",
        "outputId": "fb6019b8-af83-498b-e873-db11055ec047"
      },
      "outputs": [
        {
          "name": "stdout",
          "output_type": "stream",
          "text": [
            "[1, 2, 3]\n",
            "[1, 'tak', 5]\n"
          ]
        }
      ],
      "source": [
        "x = [1, 2, 3]\n",
        "y = [1, 'tak', 5]\n",
        "\n",
        "print(x)\n",
        "print(y)"
      ]
    },
    {
      "cell_type": "code",
      "execution_count": null,
      "metadata": {
        "id": "MVVeFfXILw26",
        "outputId": "8011a2e0-df69-4f25-9575-09ac91fae71d"
      },
      "outputs": [
        {
          "name": "stdout",
          "output_type": "stream",
          "text": [
            "True\n",
            "False\n",
            "True\n"
          ]
        }
      ],
      "source": [
        "x = [1, 2, 3, 4]\n",
        "\n",
        "print(2 in x)\n",
        "print(3 not in x)\n",
        "print(5 not in x)"
      ]
    },
    {
      "cell_type": "code",
      "execution_count": null,
      "metadata": {
        "id": "snZVFjKCLw26",
        "outputId": "e4458c6e-4ddc-4c75-dec4-45271d0280b1"
      },
      "outputs": [
        {
          "name": "stdout",
          "output_type": "stream",
          "text": [
            "[range(0, 5), [8, -7, -1]]\n",
            "range(0, 5)\n",
            "[8, -7, -1]\n",
            "-7\n"
          ]
        }
      ],
      "source": [
        "x = [range(5), [8, -7, -1]]\n",
        "\n",
        "print(x)\n",
        "print(x[0])\n",
        "print(x[1])\n",
        "print(x[1][1])"
      ]
    },
    {
      "cell_type": "markdown",
      "metadata": {
        "id": "o5_hmRKCLw27"
      },
      "source": [
        "# Zad. 6\n",
        "\n",
        "Napisać program zamieniający napis na napis „rozstrzelony”, czyli wstawiający spacje przed napisem, pomiędzy literami i po napisie. Przykład: **'Python' → ' P y t h o n '**. "
      ]
    },
    {
      "cell_type": "code",
      "execution_count": null,
      "metadata": {
        "id": "dZOFJJZBLw27"
      },
      "outputs": [],
      "source": [
        "def zad6(slowo, czym, ilosc):\n",
        "    separator = ''\n",
        "    for i in range(ilosc):\n",
        "        separator = separator + czym\n",
        "    napis = separator.join(litera for litera in slowo)\n",
        "    print(napis)"
      ]
    },
    {
      "cell_type": "markdown",
      "metadata": {
        "id": "depnIqZXLw27"
      },
      "source": [
        "# Zad. 7\n",
        "Napisz funkcję **reverse(napis)**, która z napisu będącego jej argumentem tworzy odwrócony napis. Przykładowo, wywołanie reverse(\"hello\") powinno zwrócić napis \"olleh\". "
      ]
    },
    {
      "cell_type": "code",
      "execution_count": 1,
      "metadata": {
        "id": "XnXpxEoNLw27",
        "outputId": "4c986f12-0428-42d4-8b34-786c84418bd4",
        "colab": {
          "base_uri": "https://localhost:8080/",
          "height": 130
        }
      },
      "outputs": [
        {
          "output_type": "error",
          "ename": "IndentationError",
          "evalue": "ignored",
          "traceback": [
            "\u001b[0;36m  File \u001b[0;32m\"<ipython-input-1-639f60d03d70>\"\u001b[0;36m, line \u001b[0;32m2\u001b[0m\n\u001b[0;31m    for c in string[::-1]:\u001b[0m\n\u001b[0m    ^\u001b[0m\n\u001b[0;31mIndentationError\u001b[0m\u001b[0;31m:\u001b[0m unexpected indent\n"
          ]
        }
      ],
      "source": [
        " revstr = \"\"\n",
        "    for c in string[::-1]:\n",
        "        revstr += c\n",
        "\n",
        "    return revstr"
      ]
    },
    {
      "cell_type": "markdown",
      "metadata": {
        "id": "E28iBjmqLw27"
      },
      "source": [
        "## Moduły i pakiety\n",
        "Moduł to plik w Pythonie zawierający definicję klas, funkcji, stałych i zmiennych. Definicje zawarte w module mogą być zaimportowane do innych modułów lub do modułu głównego. Wewnątrz modułu jego nazwa dostępna jest jako wartość zmiennej globalnej **<tt>\\__name__</tt>**."
      ]
    },
    {
      "cell_type": "markdown",
      "metadata": {
        "id": "QOsZlyAcLw27"
      },
      "source": [
        "## Wybrane pakiety, moduły:\n",
        "\n",
        "* random - moduł ten zawiera funkcje obsługujące generowanie liczb pseudolosowych:"
      ]
    },
    {
      "cell_type": "code",
      "execution_count": null,
      "metadata": {
        "id": "7yuAcMyaLw27",
        "outputId": "48bbf185-9475-4b89-f672-f7d06f843368"
      },
      "outputs": [
        {
          "name": "stdout",
          "output_type": "stream",
          "text": [
            "3\n",
            "6\n",
            "10\n"
          ]
        }
      ],
      "source": [
        "import random\n",
        "\n",
        "random.seed() # inicjalizacja generatora liczb pseudolosowych\n",
        "\n",
        "# losowanie liczb całkowitych z zakresu od..do.\n",
        "print(random.randint(1,10))\n",
        "print(random.randint(1,10))\n",
        "print(random.randint(1,10))"
      ]
    },
    {
      "cell_type": "markdown",
      "metadata": {
        "id": "zZ82JhZKLw27"
      },
      "source": [
        "* **math** - moduł ten zawiera definicje najczęściej używanych funkcji matematycznych:"
      ]
    },
    {
      "cell_type": "code",
      "execution_count": null,
      "metadata": {
        "id": "IxZ2ChcfLw27",
        "outputId": "3e21a575-1588-4575-c6fb-ae7ad18ef28e"
      },
      "outputs": [
        {
          "name": "stdout",
          "output_type": "stream",
          "text": [
            "5\n",
            "4\n",
            "3.0\n",
            "(0.5, 2.0)\n",
            "7.38905609893065\n",
            "1.0\n",
            "3.0\n",
            "1.5\n",
            "0.0\n",
            "0.5403023058681398\n"
          ]
        }
      ],
      "source": [
        "from math import *\n",
        "\n",
        "print(ceil(4.7)) # zwraca sufit liczby rzeczywistej\n",
        "print(floor(4.7)) # zwraca podłogę liczby rzeczywistej\n",
        "print(fabs(-3)) # zwraca wartość absolutną liczby rzeczywistej\n",
        "print(modf(2.5)) # zwraca krotkę zawierającą część ułamkową i całkowitą liczby rzeczywistej\n",
        "print(exp(2)) # zwraca e do potęgi x\n",
        "print(log(e)) # zwraca logarytm naturalny\n",
        "print(log(8, 2)) # zwraca logarytm o podstawie 2 (drugi parametr)\n",
        "print(sqrt(2.25)) # zwraca pierwiastek kwadratowy\n",
        "print(acos(1))\n",
        "print(cos(1))"
      ]
    },
    {
      "cell_type": "markdown",
      "metadata": {
        "id": "LadWZl4DLw28"
      },
      "source": [
        "\n",
        "# Zad. 8\n",
        "\n",
        "Wyestymować wartość liczby $\\pi$ metodą Monte Carlo.\n",
        "\n",
        "Pole kwadratu to $4r^2$, a pole koła wynosi $\\pi r^2$. W takim razie stosunek:\n",
        "$$\n",
        "\\frac{P_{kola}}{P_{kwadratu}} = \\frac{\\pi r^2}{4 r^2} = \\frac{\\pi}{4}.\n",
        "$$\n",
        "W konsekwencji: \n",
        "$$\n",
        "\\pi = 4 \\frac{P_{kola}}{P_{kwadratu}}.\n",
        "$$\n",
        "\n",
        "Jeżeli będziemy losować punkty o współrzędnych od $-2r$ do $2r$, to stosunek liczby punktów zawierających się w kole o środku w punkcie $(0,0)$ i promieniu $r$ do wszystkich wylosowanych punktów, będzie dążył w nieskończoności (z pewnym prawdopodobieństwem) do stosunku tego pola koła do koła kwadratu o boku $2r$.\n",
        "\n",
        "Cała metoda sprowadza się więc do tego, by losować punkty i sprawdzać, czy mieszczą się w kole. "
      ]
    },
    {
      "cell_type": "code",
      "execution_count": null,
      "metadata": {
        "id": "zMJPAkg2Lw28"
      },
      "outputs": [],
      "source": []
    }
  ],
  "metadata": {
    "kernelspec": {
      "display_name": "Python 3",
      "language": "python",
      "name": "python3"
    },
    "language_info": {
      "codemirror_mode": {
        "name": "ipython",
        "version": 3
      },
      "file_extension": ".py",
      "mimetype": "text/x-python",
      "name": "python",
      "nbconvert_exporter": "python",
      "pygments_lexer": "ipython3",
      "version": "3.6.0"
    },
    "colab": {
      "provenance": []
    }
  },
  "nbformat": 4,
  "nbformat_minor": 0
}