{
  "cells": [
    {
      "cell_type": "markdown",
      "metadata": {
        "id": "mtNBn9Jgqanc"
      },
      "source": [
        "# Train test split\n"
      ]
    },
    {
      "cell_type": "code",
      "execution_count": 1,
      "metadata": {
        "collapsed": true,
        "id": "SpKUNqRTqane"
      },
      "outputs": [],
      "source": [
        "import numpy as np\n",
        "import pandas as pd\n",
        "import scipy.stats as stats\n",
        "import sklearn.linear_model as lm\n",
        "from sklearn import datasets, linear_model\n",
        "import matplotlib.pyplot as plt\n",
        "\n",
        "from sklearn.preprocessing import PolynomialFeatures\n",
        "from sklearn.pipeline import make_pipeline\n",
        "\n",
        "from sklearn import  metrics"
      ]
    },
    {
      "cell_type": "markdown",
      "metadata": {
        "id": "C4RlgZnAqane"
      },
      "source": [
        "Rozważmy następujący zbiór punktów:"
      ]
    },
    {
      "cell_type": "code",
      "execution_count": 2,
      "metadata": {
        "id": "O6ulbTd7qane",
        "outputId": "48158f37-4623-4ed9-e779-7e30ae001e23",
        "colab": {
          "base_uri": "https://localhost:8080/",
          "height": 430
        }
      },
      "outputs": [
        {
          "output_type": "display_data",
          "data": {
            "text/plain": [
              "<Figure size 640x480 with 1 Axes>"
            ],
            "image/png": "[encoded data removed]"
          },
          "metadata": {}
        }
      ],
      "source": [
        "x = stats.uniform(0,3).rvs(100)\n",
        "f = lambda x: ((x*2-1)*(x**2-2)*(x-2)+3)\n",
        "y = f(x) + stats.norm(0,0.3).rvs(len(x))\n",
        "plt.plot(x, y, 'ok', ms=10);\n",
        "plt.show()"
      ]
    },
    {
      "cell_type": "markdown",
      "metadata": {
        "id": "HllBj1mtqanf"
      },
      "source": [
        "# Przykład\n",
        "Podziel zbiór danych na część testową i treningową. \n",
        "Naucz model na części treningowej i ocen wyniki na części testowej."
      ]
    },
    {
      "cell_type": "code",
      "execution_count": 3,
      "metadata": {
        "id": "B13bpi-Rqanf",
        "outputId": "a0e74f23-2043-4e5f-f75d-e240c30e9d87",
        "colab": {
          "base_uri": "https://localhost:8080/"
        }
      },
      "outputs": [
        {
          "output_type": "stream",
          "name": "stdout",
          "text": [
            "(60,) (60,)\n",
            "(40,) (40,)\n"
          ]
        }
      ],
      "source": [
        "from sklearn.model_selection import train_test_split\n",
        "X_train, X_test, y_train, y_test = train_test_split(x, y, test_size=0.4, random_state=0)\n",
        "\n",
        "print(X_train.shape, y_train.shape)\n",
        "print(X_test.shape, y_test.shape)"
      ]
    },
    {
      "cell_type": "code",
      "execution_count": 4,
      "metadata": {
        "collapsed": true,
        "id": "JfY0podwqanf"
      },
      "outputs": [],
      "source": [
        "X_train=np.vstack(X_train)\n",
        "X_test=np.vstack(X_test)"
      ]
    },
    {
      "cell_type": "code",
      "execution_count": 5,
      "metadata": {
        "id": "r2O0NuhWqang",
        "outputId": "acc0610e-9f13-4290-8f10-fd025e4b16ea",
        "colab": {
          "base_uri": "https://localhost:8080/"
        }
      },
      "outputs": [
        {
          "output_type": "execute_result",
          "data": {
            "text/plain": [
              "array([ 1.63683528, -0.04687494, 19.23231611,  6.76966338, 16.95760375,\n",
              "        0.27546155,  4.96265674,  3.58252294, 13.24904686,  3.1377263 ,\n",
              "        6.32540656,  1.82647919,  3.5609942 , -0.04778773, 10.09259618,\n",
              "       10.14812453, -0.0288794 , -0.04338664,  1.57183818, 22.19658682,\n",
              "        0.22216033,  0.79493366, 11.57942404,  0.74704016,  0.15890135,\n",
              "        4.52422966,  2.2091621 ,  0.15541557, 17.28922703,  7.00923117,\n",
              "        0.47131779,  1.48862503, 14.79101315,  1.48494893,  3.34969559,\n",
              "        3.95701262,  2.0158798 , 19.0176927 , 24.23091752,  0.47319048])"
            ]
          },
          "metadata": {},
          "execution_count": 5
        }
      ],
      "source": [
        "model2 = make_pipeline(PolynomialFeatures(2), linear_model.LinearRegression())\n",
        "model2.fit(X_train, y_train)\n",
        "model2.predict(X_test)"
      ]
    },
    {
      "cell_type": "code",
      "execution_count": 6,
      "metadata": {
        "id": "sAecWwm0qang",
        "outputId": "091e0ab7-e6ee-4021-ef03-bfb77672183b",
        "colab": {
          "base_uri": "https://localhost:8080/"
        }
      },
      "outputs": [
        {
          "output_type": "stream",
          "name": "stdout",
          "text": [
            "Explained variance score: 0.7906952871518856\n",
            "Explained variance score: 0.7906952871518856\n",
            "Median absolute error: 3.402485326647538\n",
            "Mean squared error: 12.728715298756624\n",
            "Mean absolute errors: 3.0115442811448827\n"
          ]
        }
      ],
      "source": [
        "print(\"Explained variance score: {}\".format( metrics.explained_variance_score(y_test, model2.predict(X_test)) ))\n",
        "print(\"Explained variance score: {}\".format( metrics.explained_variance_score(y_test, model2.predict(X_test)) ))\n",
        "print(\"Median absolute error: {}\".format( metrics.median_absolute_error(y_test, model2.predict(X_test)) ))\n",
        "print(\"Mean squared error: {}\".format( metrics.mean_squared_error(y_test, model2.predict(X_test)) ))\n",
        "print(\"Mean absolute errors: {}\".format(metrics.mean_absolute_error(y_test, model2.predict(X_test)) ))"
      ]
    },
    {
      "cell_type": "markdown",
      "metadata": {
        "id": "dPPWJMNjqang"
      },
      "source": [
        "# Zadanie\n",
        "Wylicz powyższe miary na zbiorze testowym dla wszystkich modeli nauczonych na trainie:\n",
        "\n",
        "- regrsji linowej\n",
        "- regrsji wielomianowej stopnia 2\n",
        "- regrsji wielomianowej stopnia 3\n",
        "- regrsji wielomianowej stopnia 4\n",
        "- regrsji wielomianowej stopnia 5\n",
        "- regrsji wielomianowej stopnia 25"
      ]
    },
    {
      "cell_type": "code",
      "execution_count": 7,
      "metadata": {
        "collapsed": true,
        "id": "uobe8e1eqang",
        "outputId": "1b449a91-46b3-4173-c4a5-5f82fbe4b881",
        "colab": {
          "base_uri": "https://localhost:8080/"
        }
      },
      "outputs": [
        {
          "output_type": "stream",
          "name": "stdout",
          "text": [
            "linear\n",
            "Explained variance score: 0.52540004373911\n",
            "Explained variance score: 0.52540004373911\n",
            "Median absolute error: 3.3607419116071457\n",
            "Mean squared error: 28.87210420297264\n",
            "Mean absolute errors: 4.221335399919937\n",
            "2nd degree\n",
            "Explained variance score: 0.7906952871518856\n",
            "Explained variance score: 0.7906952871518856\n",
            "Median absolute error: 3.402485326647538\n",
            "Mean squared error: 12.728715298756624\n",
            "Mean absolute errors: 3.0115442811448827\n",
            "3rd degree\n",
            "Explained variance score: 0.9902924299454244\n",
            "Explained variance score: 0.9902924299454244\n",
            "Median absolute error: 0.5777011273615564\n",
            "Mean squared error: 0.61459522053608\n",
            "Mean absolute errors: 0.665126665081096\n",
            "4th degree\n",
            "Explained variance score: 0.9983886034694729\n",
            "Explained variance score: 0.9983886034694729\n",
            "Median absolute error: 0.20945514083897332\n",
            "Mean squared error: 0.09711727878724534\n",
            "Mean absolute errors: 0.25137733765940196\n",
            "5th degree\n",
            "Explained variance score: 0.9984779207149345\n",
            "Explained variance score: 0.9984779207149345\n",
            "Median absolute error: 0.224010810354903\n",
            "Mean squared error: 0.0919997847751948\n",
            "Mean absolute errors: 0.245521256853789\n",
            "25th degree\n",
            "Explained variance score: 0.9975540817926403\n",
            "Explained variance score: 0.9975540817926403\n",
            "Median absolute error: 0.3192556299385878\n",
            "Mean squared error: 0.15356824114280912\n",
            "Mean absolute errors: 0.32866492269475994\n"
          ]
        }
      ],
      "source": [
        "model0 = make_pipeline( linear_model.LinearRegression())\n",
        "model0.fit(X_train, y_train)\n",
        "model0.predict(X_test)\n",
        "print(\"linear\")\n",
        "print(\"Explained variance score: {}\".format( metrics.explained_variance_score(y_test, model0.predict(X_test)) ))\n",
        "print(\"Explained variance score: {}\".format( metrics.explained_variance_score(y_test, model0.predict(X_test)) ))\n",
        "print(\"Median absolute error: {}\".format( metrics.median_absolute_error(y_test, model0.predict(X_test)) ))\n",
        "print(\"Mean squared error: {}\".format( metrics.mean_squared_error(y_test, model0.predict(X_test)) ))\n",
        "print(\"Mean absolute errors: {}\".format(metrics.mean_absolute_error(y_test, model0.predict(X_test)) ))\n",
        "\n",
        "model2= make_pipeline(PolynomialFeatures(2), linear_model.LinearRegression())\n",
        "model2.fit(X_train, y_train)\n",
        "model2.predict(X_test)\n",
        "print(\"2nd degree\")\n",
        "print(\"Explained variance score: {}\".format( metrics.explained_variance_score(y_test, model2.predict(X_test)) ))\n",
        "print(\"Explained variance score: {}\".format( metrics.explained_variance_score(y_test, model2.predict(X_test)) ))\n",
        "print(\"Median absolute error: {}\".format( metrics.median_absolute_error(y_test, model2.predict(X_test)) ))\n",
        "print(\"Mean squared error: {}\".format( metrics.mean_squared_error(y_test, model2.predict(X_test)) ))\n",
        "print(\"Mean absolute errors: {}\".format(metrics.mean_absolute_error(y_test, model2.predict(X_test)) ))\n",
        "\n",
        "model3= make_pipeline(PolynomialFeatures(3), linear_model.LinearRegression())\n",
        "model3.fit(X_train, y_train)\n",
        "model3.predict(X_test)\n",
        "print(\"3rd degree\")\n",
        "print(\"Explained variance score: {}\".format( metrics.explained_variance_score(y_test, model3.predict(X_test)) ))\n",
        "print(\"Explained variance score: {}\".format( metrics.explained_variance_score(y_test, model3.predict(X_test)) ))\n",
        "print(\"Median absolute error: {}\".format( metrics.median_absolute_error(y_test, model3.predict(X_test)) ))\n",
        "print(\"Mean squared error: {}\".format( metrics.mean_squared_error(y_test, model3.predict(X_test)) ))\n",
        "print(\"Mean absolute errors: {}\".format(metrics.mean_absolute_error(y_test, model3.predict(X_test)) ))\n",
        "\n",
        "model4= make_pipeline(PolynomialFeatures(4), linear_model.LinearRegression())\n",
        "model4.fit(X_train, y_train)\n",
        "model4.predict(X_test)\n",
        "print(\"4th degree\")\n",
        "print(\"Explained variance score: {}\".format( metrics.explained_variance_score(y_test, model4.predict(X_test)) ))\n",
        "print(\"Explained variance score: {}\".format( metrics.explained_variance_score(y_test, model4.predict(X_test)) ))\n",
        "print(\"Median absolute error: {}\".format( metrics.median_absolute_error(y_test, model4.predict(X_test)) ))\n",
        "print(\"Mean squared error: {}\".format( metrics.mean_squared_error(y_test, model4.predict(X_test)) ))\n",
        "print(\"Mean absolute errors: {}\".format(metrics.mean_absolute_error(y_test, model4.predict(X_test)) ))\n",
        "\n",
        "\n",
        "model5= make_pipeline(PolynomialFeatures(5), linear_model.LinearRegression())\n",
        "model5.fit(X_train, y_train)\n",
        "model5.predict(X_test)\n",
        "print(\"5th degree\")\n",
        "print(\"Explained variance score: {}\".format( metrics.explained_variance_score(y_test, model5.predict(X_test)) ))\n",
        "print(\"Explained variance score: {}\".format( metrics.explained_variance_score(y_test, model5.predict(X_test)) ))\n",
        "print(\"Median absolute error: {}\".format( metrics.median_absolute_error(y_test, model5.predict(X_test)) ))\n",
        "print(\"Mean squared error: {}\".format( metrics.mean_squared_error(y_test, model5.predict(X_test)) ))\n",
        "print(\"Mean absolute errors: {}\".format(metrics.mean_absolute_error(y_test, model5.predict(X_test)) ))\n",
        "\n",
        "model25= make_pipeline(PolynomialFeatures(25), linear_model.LinearRegression())\n",
        "model25.fit(X_train, y_train)\n",
        "model25.predict(X_test)\n",
        "print(\"25th degree\")\n",
        "print(\"Explained variance score: {}\".format( metrics.explained_variance_score(y_test, model25.predict(X_test)) ))\n",
        "print(\"Explained variance score: {}\".format( metrics.explained_variance_score(y_test, model25.predict(X_test)) ))\n",
        "print(\"Median absolute error: {}\".format( metrics.median_absolute_error(y_test, model25.predict(X_test)) ))\n",
        "print(\"Mean squared error: {}\".format( metrics.mean_squared_error(y_test, model25.predict(X_test)) ))\n",
        "print(\"Mean absolute errors: {}\".format(metrics.mean_absolute_error(y_test, model25.predict(X_test)) ))"
      ]
    }
  ],
  "metadata": {
    "kernelspec": {
      "display_name": "Python 3",
      "language": "python",
      "name": "python3"
    },
    "language_info": {
      "codemirror_mode": {
        "name": "ipython",
        "version": 3
      },
      "file_extension": ".py",
      "mimetype": "text/x-python",
      "name": "python",
      "nbconvert_exporter": "python",
      "pygments_lexer": "ipython3",
      "version": "3.8.5"
    },
    "colab": {
      "provenance": []
    }
  },
  "nbformat": 4,
  "nbformat_minor": 0
}